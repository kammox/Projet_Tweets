{
 "cells": [
  {
   "cell_type": "code",
   "execution_count": 1,
   "id": "17f01aa5",
   "metadata": {},
   "outputs": [],
   "source": [
    "import pandas as pd\n",
    "import matplotlib.pyplot as plt\n",
    "import seaborn as sns"
   ]
  },
  {
   "cell_type": "code",
   "execution_count": 22,
   "id": "c601016c",
   "metadata": {},
   "outputs": [],
   "source": [
    "df = pd.read_csv('../data/tweets.csv')"
   ]
  },
  {
   "cell_type": "code",
   "execution_count": 25,
   "id": "a712ee0c",
   "metadata": {},
   "outputs": [
    {
     "data": {
      "text/html": [
       "<div>\n",
       "<style scoped>\n",
       "    .dataframe tbody tr th:only-of-type {\n",
       "        vertical-align: middle;\n",
       "    }\n",
       "\n",
       "    .dataframe tbody tr th {\n",
       "        vertical-align: top;\n",
       "    }\n",
       "\n",
       "    .dataframe thead th {\n",
       "        text-align: right;\n",
       "    }\n",
       "</style>\n",
       "<table border=\"1\" class=\"dataframe\">\n",
       "  <thead>\n",
       "    <tr style=\"text-align: right;\">\n",
       "      <th></th>\n",
       "      <th>id</th>\n",
       "      <th>keyword</th>\n",
       "      <th>location</th>\n",
       "      <th>text</th>\n",
       "      <th>target</th>\n",
       "    </tr>\n",
       "  </thead>\n",
       "  <tbody>\n",
       "    <tr>\n",
       "      <th>0</th>\n",
       "      <td>1</td>\n",
       "      <td>NaN</td>\n",
       "      <td>NaN</td>\n",
       "      <td>Our Deeds are the Reason of this #earthquake M...</td>\n",
       "      <td>1</td>\n",
       "    </tr>\n",
       "    <tr>\n",
       "      <th>1</th>\n",
       "      <td>4</td>\n",
       "      <td>NaN</td>\n",
       "      <td>NaN</td>\n",
       "      <td>Forest fire near La Ronge Sask. Canada</td>\n",
       "      <td>1</td>\n",
       "    </tr>\n",
       "    <tr>\n",
       "      <th>2</th>\n",
       "      <td>5</td>\n",
       "      <td>NaN</td>\n",
       "      <td>NaN</td>\n",
       "      <td>All residents asked to 'shelter in place' are ...</td>\n",
       "      <td>1</td>\n",
       "    </tr>\n",
       "    <tr>\n",
       "      <th>3</th>\n",
       "      <td>6</td>\n",
       "      <td>NaN</td>\n",
       "      <td>NaN</td>\n",
       "      <td>13,000 people receive #wildfires evacuation or...</td>\n",
       "      <td>1</td>\n",
       "    </tr>\n",
       "    <tr>\n",
       "      <th>4</th>\n",
       "      <td>7</td>\n",
       "      <td>NaN</td>\n",
       "      <td>NaN</td>\n",
       "      <td>Just got sent this photo from Ruby #Alaska as ...</td>\n",
       "      <td>1</td>\n",
       "    </tr>\n",
       "  </tbody>\n",
       "</table>\n",
       "</div>"
      ],
      "text/plain": [
       "   id keyword location                                               text  \\\n",
       "0   1     NaN      NaN  Our Deeds are the Reason of this #earthquake M...   \n",
       "1   4     NaN      NaN             Forest fire near La Ronge Sask. Canada   \n",
       "2   5     NaN      NaN  All residents asked to 'shelter in place' are ...   \n",
       "3   6     NaN      NaN  13,000 people receive #wildfires evacuation or...   \n",
       "4   7     NaN      NaN  Just got sent this photo from Ruby #Alaska as ...   \n",
       "\n",
       "   target  \n",
       "0       1  \n",
       "1       1  \n",
       "2       1  \n",
       "3       1  \n",
       "4       1  "
      ]
     },
     "execution_count": 25,
     "metadata": {},
     "output_type": "execute_result"
    }
   ],
   "source": [
    "df.head()"
   ]
  },
  {
   "cell_type": "code",
   "execution_count": 27,
   "id": "ea1136fc",
   "metadata": {},
   "outputs": [
    {
     "data": {
      "text/plain": [
       "(7613, 5)"
      ]
     },
     "execution_count": 27,
     "metadata": {},
     "output_type": "execute_result"
    }
   ],
   "source": [
    "df.shape"
   ]
  },
  {
   "cell_type": "code",
   "execution_count": 29,
   "id": "7bf9130c",
   "metadata": {},
   "outputs": [
    {
     "data": {
      "text/plain": [
       "id           int64\n",
       "keyword     object\n",
       "location    object\n",
       "text        object\n",
       "target       int64\n",
       "dtype: object"
      ]
     },
     "execution_count": 29,
     "metadata": {},
     "output_type": "execute_result"
    }
   ],
   "source": [
    "df.dtypes"
   ]
  },
  {
   "cell_type": "code",
   "execution_count": 30,
   "id": "54fef22a",
   "metadata": {},
   "outputs": [
    {
     "data": {
      "text/plain": [
       "id             0\n",
       "keyword       61\n",
       "location    2533\n",
       "text           0\n",
       "target         0\n",
       "dtype: int64"
      ]
     },
     "execution_count": 30,
     "metadata": {},
     "output_type": "execute_result"
    }
   ],
   "source": [
    "df.isnull().sum()"
   ]
  },
  {
   "cell_type": "code",
   "execution_count": 31,
   "id": "0851b43a",
   "metadata": {},
   "outputs": [
    {
     "data": {
      "text/plain": [
       "0"
      ]
     },
     "execution_count": 31,
     "metadata": {},
     "output_type": "execute_result"
    }
   ],
   "source": [
    "df.duplicated().sum()"
   ]
  },
  {
   "cell_type": "markdown",
   "id": "c81ea23d",
   "metadata": {},
   "source": [
    "Colonnes utiles pour le modèle : 'text' et 'target' le texte du tweet et la classe cible"
   ]
  },
  {
   "cell_type": "code",
   "execution_count": 38,
   "id": "bdd10044",
   "metadata": {},
   "outputs": [
    {
     "name": "stdout",
     "output_type": "stream",
     "text": [
      "\n",
      "Statistiques descriptives sur la longueur des textes :\n",
      "count    7613.000000\n",
      "mean      101.037436\n",
      "std        33.781325\n",
      "min         7.000000\n",
      "25%        78.000000\n",
      "50%       107.000000\n",
      "75%       133.000000\n",
      "max       157.000000\n",
      "Name: text_length, dtype: float64\n"
     ]
    }
   ],
   "source": [
    "# Incohérences ou outliers ?\n",
    "df['text_length'] = df['text'].astype(str).apply(len)\n",
    "print(\"\\nStatistiques descriptives sur la longueur des textes :\")\n",
    "print(df['text_length'].describe())"
   ]
  },
  {
   "cell_type": "code",
   "execution_count": 33,
   "id": "f9783abd",
   "metadata": {},
   "outputs": [
    {
     "name": "stdout",
     "output_type": "stream",
     "text": [
      "\n",
      "Statistiques sur la longueur des tweets :\n",
      "count    7613.000000\n",
      "mean      101.037436\n",
      "std        33.781325\n",
      "min         7.000000\n",
      "25%        78.000000\n",
      "50%       107.000000\n",
      "75%       133.000000\n",
      "max       157.000000\n",
      "Name: text_length, dtype: float64\n"
     ]
    },
    {
     "data": {
      "image/png": "[encoded data removed]",
      "text/plain": [
       "<Figure size 640x480 with 1 Axes>"
      ]
     },
     "metadata": {},
     "output_type": "display_data"
    }
   ],
   "source": [
    "# Longueur des tweets\n",
    "df['text_length'] = df['text'].astype(str).apply(len)\n",
    "print(\"\\nStatistiques sur la longueur des tweets :\")\n",
    "print(df['text_length'].describe())\n",
    "sns.histplot(df['text_length'], bins=30, kde=True)\n",
    "plt.title(\"Distribution des longueurs de texte\")\n",
    "plt.show()"
   ]
  },
  {
   "cell_type": "code",
   "execution_count": 34,
   "id": "db233e54",
   "metadata": {},
   "outputs": [
    {
     "name": "stdout",
     "output_type": "stream",
     "text": [
      "\n",
      "Tweets avec texte < 5 caractères :\n",
      "Empty DataFrame\n",
      "Columns: [text, target]\n",
      "Index: []\n"
     ]
    }
   ],
   "source": [
    "# Tweets anormalement courts ou longs\n",
    "print(\"\\nTweets avec texte < 5 caractères :\")\n",
    "print(df[df['text_length'] < 5][['text', 'target']])"
   ]
  },
  {
   "cell_type": "code",
   "execution_count": 35,
   "id": "6d28752a",
   "metadata": {},
   "outputs": [
    {
     "name": "stdout",
     "output_type": "stream",
     "text": [
      "\n",
      "Tweets avec texte > 200 caractères :\n",
      "Empty DataFrame\n",
      "Columns: [text, target]\n",
      "Index: []\n"
     ]
    }
   ],
   "source": [
    "print(\"\\nTweets avec texte > 200 caractères :\")\n",
    "print(df[df['text_length'] > 200][['text', 'target']])"
   ]
  },
  {
   "cell_type": "code",
   "execution_count": 36,
   "id": "7b089fe4",
   "metadata": {},
   "outputs": [
    {
     "name": "stdout",
     "output_type": "stream",
     "text": [
      "\n",
      "Exemples aléatoires :\n",
      "                                                   text  target\n",
      "2644  So you have a new weapon that can cause un-ima...       1\n",
      "2227  The f$&amp;@ing things I do for #GISHWHES Just...       0\n",
      "5448  DT @georgegalloway: RT @Galloway4Mayor: ÛÏThe...       1\n",
      "132   Aftershock back to school kick off was great. ...       0\n",
      "6845  in response to trauma Children of Addicts deve...       0\n"
     ]
    }
   ],
   "source": [
    "# Affichage de quelques exemples aléatoires\n",
    "print(\"\\nExemples aléatoires :\")\n",
    "print(df[['text', 'target']].sample(5, random_state=42))"
   ]
  },
  {
   "cell_type": "code",
   "execution_count": 40,
   "id": "24e25485",
   "metadata": {},
   "outputs": [
    {
     "name": "stdout",
     "output_type": "stream",
     "text": [
      "\n",
      "Répartition de la variable cible :\n",
      "target\n",
      "0    0.57034\n",
      "1    0.42966\n",
      "Name: proportion, dtype: float64\n"
     ]
    },
    {
     "data": {
      "image/png": "[encoded data removed]",
      "text/plain": [
       "<Figure size 640x480 with 1 Axes>"
      ]
     },
     "metadata": {},
     "output_type": "display_data"
    }
   ],
   "source": [
    "# Répartition de la variable cible\n",
    "print(\"\\nRépartition de la variable cible :\")\n",
    "print(df['target'].value_counts(normalize=True))\n",
    "sns.countplot(x='target', data=df)\n",
    "plt.title(\"Répartition des classes (0 = normal, 1 = catastrophe)\")\n",
    "plt.xlabel(\"Classe\")\n",
    "plt.ylabel(\"Nombre de tweets\")\n",
    "plt.show()"
   ]
  },
  {
   "cell_type": "code",
   "execution_count": null,
   "id": "e21e5766",
   "metadata": {},
   "outputs": [
    {
     "name": "stdout",
     "output_type": "stream",
     "text": [
      "\n",
      "Échantillon de 10 tweets aléatoires :\n",
      "                                                   text  target\n",
      "2644  So you have a new weapon that can cause un-ima...       1\n",
      "2227  The f$&amp;@ing things I do for #GISHWHES Just...       0\n",
      "5448  DT @georgegalloway: RT @Galloway4Mayor: ÛÏThe...       1\n",
      "132   Aftershock back to school kick off was great. ...       0\n",
      "6845  in response to trauma Children of Addicts deve...       0\n",
      "5559  @Calum5SOS you look like you got caught in a r...       0\n",
      "1765  my favorite lady came to our volunteer meeting...       1\n",
      "1817  @brianroemmele UX fail of EMV - people want to...       1\n",
      "6810  Can't find my ariana grande shirt  this is a f...       0\n",
      "4398  The Murderous Story Of AmericaÛªs First Hijac...       1\n"
     ]
    }
   ],
   "source": [
    "print(\"\\nÉchantillon de 10 tweets aléatoires :\")\n",
    "sample = df[['text', 'target']].sample(10, random_state=42)\n",
    "print(sample)"
   ]
  },
  {
   "cell_type": "markdown",
   "id": "218d1b88",
   "metadata": {},
   "source": [
    "Tweets target = 1 :\n",
    "« new weapon », « George Galloway », « volunteer meeting », « UX fail », « hijack story »\n",
    "=> On peut deviner que target = 1 pourrait être lié à des sujets graves ou violents (terrorisme, attentats, violence).\n",
    "\n",
    "Tweets target = 0 :\n",
    "Plus anodins, perso ou humoristiques : « GISHWHES », « back to school », « Ariana Grande shirt ».\n",
    "\n",
    "Conclusion :\n",
    "\n",
    "on voit que le target pourrait être prédictible :\n",
    "\n",
    "Les tweets qui parlent de sujets sensibles ou violents tendent vers 1.\n",
    "\n",
    "Les tweets banals, de la vie quotidienne ou humoristiques, sont 0.\n",
    "\n"
   ]
  }
 ],
 "metadata": {
  "kernelspec": {
   "display_name": "base",
   "language": "python",
   "name": "python3"
  },
  "language_info": {
   "codemirror_mode": {
    "name": "ipython",
    "version": 3
   },
   "file_extension": ".py",
   "mimetype": "text/x-python",
   "name": "python",
   "nbconvert_exporter": "python",
   "pygments_lexer": "ipython3",
   "version": "3.12.7"
  }
 },
 "nbformat": 4,
 "nbformat_minor": 5
}
